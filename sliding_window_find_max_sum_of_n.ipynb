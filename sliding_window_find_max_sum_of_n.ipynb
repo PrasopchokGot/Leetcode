{
 "cells": [
  {
   "cell_type": "markdown",
   "metadata": {},
   "source": [
    "Loop on list Until:\n",
    "    the sum of sublist == target\n",
    "    or\n",
    "    the sum of sublist > target\n",
    "        "
   ]
  },
  {
   "cell_type": "code",
   "execution_count": 4,
   "metadata": {},
   "outputs": [],
   "source": [
    "nums = [2, 3, 5, 6, 7]"
   ]
  },
  {
   "cell_type": "code",
   "execution_count": 5,
   "metadata": {},
   "outputs": [],
   "source": [
    "def find_max_sum(nums, n):\n",
    "    curr_sum = 0\n",
    "    start_idx = 0\n",
    "    result = []\n",
    "    for end_idx in range(len(nums)):\n",
    "        curr_sum += nums[end_idx]\n",
    "        while end_idx - start_idx + 1 == n:\n",
    "            result.append(curr_sum)\n",
    "            curr_sum -= nums[start_idx]\n",
    "            start_idx += 1\n",
    "    return result"
   ]
  },
  {
   "cell_type": "code",
   "execution_count": 6,
   "metadata": {},
   "outputs": [
    {
     "name": "stdout",
     "output_type": "stream",
     "text": [
      "[10, 14, 18]\n"
     ]
    }
   ],
   "source": [
    "print(find_max_sum(nums, 3))"
   ]
  }
 ],
 "metadata": {
  "interpreter": {
   "hash": "0d591c6e422414675974e227c13f5382000c440fedd3c5006ef2be5d887f0ba7"
  },
  "kernelspec": {
   "display_name": "Python 3.9.1 64-bit",
   "language": "python",
   "name": "python3"
  },
  "language_info": {
   "codemirror_mode": {
    "name": "ipython",
    "version": 3
   },
   "file_extension": ".py",
   "mimetype": "text/x-python",
   "name": "python",
   "nbconvert_exporter": "python",
   "pygments_lexer": "ipython3",
   "version": "3.9.1"
  }
 },
 "nbformat": 4,
 "nbformat_minor": 2
}
