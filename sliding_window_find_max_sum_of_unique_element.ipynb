{
 "cells": [
  {
   "cell_type": "markdown",
   "metadata": {},
   "source": []
  },
  {
   "cell_type": "code",
   "execution_count": 4,
   "metadata": {},
   "outputs": [],
   "source": [
    "nums = [4, 1, 2, 4, 4, 5, 6]\n",
    "# set: {4}, cuur_sum: 4 max_sum: 4\n",
    "# set: {4, 1}, cuur_sum: 5 max_sum: 5\n",
    "# set: {4, 1, 2}, cuur_sum: 7 max_sum: 7\n",
    "# set: {4, 1, 2, 4} = {4, 1, 2}, cuur_sum:  max_sum: 7\n",
    "solution = [7, 7, 15]"
   ]
  },
  {
   "cell_type": "code",
   "execution_count": 37,
   "metadata": {},
   "outputs": [],
   "source": [
    "def max_unique_element(nums: list):\n",
    "    curr_sum = 0\n",
    "    start_idx = 0\n",
    "    seen = set()\n",
    "    max_value = 0\n",
    "    \n",
    "    for num in nums:\n",
    "        while num in seen:\n",
    "            curr_sum -= nums[start_idx]\n",
    "            seen.remove(nums[start_idx])\n",
    "            start_idx += 1\n",
    "        curr_sum += num\n",
    "        seen.add(num)\n",
    "        max_value = max(max_value, curr_sum)\n",
    "    return max_value\n"
   ]
  },
  {
   "cell_type": "code",
   "execution_count": 38,
   "metadata": {},
   "outputs": [
    {
     "data": {
      "text/plain": [
       "15"
      ]
     },
     "execution_count": 38,
     "metadata": {},
     "output_type": "execute_result"
    }
   ],
   "source": [
    "max_unique_element(nums)"
   ]
  },
  {
   "cell_type": "code",
   "execution_count": null,
   "metadata": {},
   "outputs": [],
   "source": []
  }
 ],
 "metadata": {
  "interpreter": {
   "hash": "0d591c6e422414675974e227c13f5382000c440fedd3c5006ef2be5d887f0ba7"
  },
  "kernelspec": {
   "display_name": "Python 3.9.1 64-bit",
   "language": "python",
   "name": "python3"
  },
  "language_info": {
   "codemirror_mode": {
    "name": "ipython",
    "version": 3
   },
   "file_extension": ".py",
   "mimetype": "text/x-python",
   "name": "python",
   "nbconvert_exporter": "python",
   "pygments_lexer": "ipython3",
   "version": "3.9.1"
  },
  "orig_nbformat": 4
 },
 "nbformat": 4,
 "nbformat_minor": 2
}
